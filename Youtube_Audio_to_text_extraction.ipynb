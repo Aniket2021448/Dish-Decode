{
 "cells": [
  {
   "cell_type": "code",
   "execution_count": 10,
   "metadata": {},
   "outputs": [
    {
     "name": "stdout",
     "output_type": "stream",
     "text": [
      "Transcript for video ID WL5NqoNfMfQ:\n",
      "<class 'str'>\n",
      "now whilst in this beautiful country and being in the middle of Havana how could I not give you a Cuban inspired Cubano sandwich this thing is off the chart but more importantly I've learned so much this week from the Cuban people the resourcefulness but more importantly just the sparsity of ingredients but when you get your hands on them it's second to none and that noise in the background is normal look those beautiful 1950s oldfashioned cars is what makes up this beautiful country's DNA right Cubano I've had many of these as I'm sure you have so I'm going to sort of change this thing up a little bit with a local honey from the caraban bee that has no sting but a lot of flavor the honey it tastes like mango and inside that I've got a little bit of tobacco and a little bit of chili in there first let's start roasting my peppers and onions There's No Frills here the most exciting thing about cooking this way down here is just let the flavors do the torqueing really important peppers I like to start off just going all the way around and that way we just cut around the seeds don't overt trim these things just keep them centimeter thick the secret here is in the amazing flavor off that Grill now if you look behind me I've got that what they call the lechon this is a beautiful slow roasted pig it's been on there for literally 12 hours and it's cooked hammock style wrapped in banana leaves and I promise you the flavor is incredible so open up the onions and then get the peppers in there and look rub that in a little bit of olive oil salt pepper and I've got little tiny bits of garlic here all you do is just take the garlic and just squash and lightly crush the garlic I'm going to slice it roast it whole it's so beautiful really beautiful on and then in and this is a sour orange okay again unique locally here I want to squeeze all that beautiful sour tartness of that juice over those peppers and what this does now is start to sort of marinade the peppers and the onions give that a really good mix to get that really nice and crispy and get some of that tobacco flavored honey with that Chile and the Beautiful little Peppers again slice round and let the flavors do the toring so in mix I love making sandwiches like this again look it's not even cooked yet we can see the kind of flavors we're going to get from there into the pan a absolute piping hot pan I want it color beautifully caramelized now I'm going to slice my pork over to the pig so this pig has been roasted for literally 14 15 hours and it's been cooked hammock style so it's so tender and then it's been wrapped in the banana leaves and just literally swung so throughout the cooking process you get the Rope that's why it's called a hammock and you just sit here in front of the water and you just pull up and let go pull up and let go and come on that has to be the most glamorous Pig anywhere in a hammock look at it it's beautiful so it goes across slowly roasts and just swings all day long now little touch of olive oil beautiful and now I want to get some crispiness on the bread again hot olive oil get that bread I want to make a nice beautiful big sandwich so this thing is like a meal for two get this right and honestly it's like no other now season the inside of the bread really important by the way it's always season on the crust but put some salt and pepper onto the bread and get that usely fry look at that oh boy and then from there start shredding that beautiful Leon I got some nice slices from the shoulder and then that's mixed with all that beautiful pork fat and look open that up I want to get it nice and crispy okay so by pulling it like this Crispen that up again touch more salt a touch of pepper and just a little drizzle for that spicy honey and with a tobacco flavor and that Chile in there it just lifts this pork like no other now have a look at this look get this pork really nice and crispy the nice thing about this is you don't need the expensive cuts this is a sort of the cheap Cuts I've got a little bit of the shoulder here a little bit of the butt a little bit of the neck and look get that really nice and crispy bread toasting up nicely you can see that is the start of the beautiful Cubano those Peppers at Pork is getting all nice and crispy look at the bread again nice and crisp and this is where the kubana goes up a notch going to get some really nice mustard okay and I'm going to spread the mustard on top of my toasted you hear how crispy that is baguette now I'm going to do this both sides why because this is a beautiful honey mustard and it's so delicious but I don't like that raw sort of flavor from that mustard so I go back into the pan now and caramelize that mustard and just literally get that on there and it just creates this amazing layer look at those peppers useful really nice and crisp they're ready to go they come off and then a little lime and zest over those Peppers lime zest so I'm going to make this a really nice fragrant Cubano lime squeezed over and honestly just that freshness at the end it is just incredible M that lime and the zest is just useful right now look at my uh my pork oh my Lord crispy delicious and check this out that beautiful camelized mustard and that puts another layer on there okay we got my base look at that that is so good oh my Lord that is so good first off some lettuce I just want a touch of texture under here in down and on and use the center you're only doing this once so make it very special so I love using these little hearts of this little CA lettuce then from there I'm going to start the buildup that crispy pork okay get that on there oh my goodness it's so good beautiful lots of pork okay that's the essence here and this is where it starts going up a level get your onions Peppers garlic and sit that on top try and lay the peppers out so they sort of go red green red green and look at the colors there so beautiful you see those tiny little Speckles of garlic the garlic is so sweet at that age and I've got the peppers the honey laced with that tobacco just drizzle that over and just let that seep in now a secret ingredient this is a local pollen it's a bee pollen and it's from these incredible carabine bees I'm just going to sprinkle the pollen inside and it's going to give this sort of acidic lift to this cabano it is so good honestly finally bring the heat down I got some lovely pickle cucumber here lightly drain them and then just sit that intertwine it a little bit sort of lift up the onions and the garlic and just hide that beautiful pickling look at that I mean we haven't even finished this sandwich yet and look how good it looks right the Final Cut of arms is the Galer Galer is a staple in a Cubano so take your slices of Gala or GDA depending where you are sit that on top of your bread give it a touch of seasoning press that in and just go back into the pan literally for 30 seconds I call this the cheese skirt and it is just incredible because look this Galer goua melts and we have this beautiful cheesy delicious incredible finished to the sandwich and look that is ready that's my glue that literally sticks this beautiful Cubano together push that down as that gouder firms up it sticks the whole sandwich together and then watch in and look at that seriously I promise you that has to be one of the most delicious cubanas anywhere in the country and that certifies I am not an idiot sandwich wanto catch all new episodes of Gordon Ram's Uncharted now streaming on Disney plus and Hulu\n"
     ]
    }
   ],
   "source": [
    "from youtube_transcript_api import YouTubeTranscriptApi\n",
    "from youtube_transcript_api.formatters import SRTFormatter\n",
    "\n",
    "def fetch_youtube_transcript(youtube_url):\n",
    "    \"\"\"\n",
    "    Fetches the transcript of a YouTube video using the YouTube Transcript API.\n",
    "    \"\"\"\n",
    "    try:\n",
    "        # Extract the video ID from the YouTube URL\n",
    "        video_id = youtube_url.split(\"v=\")[-1].split(\"&\")[0]\n",
    "\n",
    "        # Fetch the transcript for the given video ID\n",
    "        transcript_data = YouTubeTranscriptApi.get_transcript(video_id)\n",
    "\n",
    "        # Print transcript to console\n",
    "        print(f\"Transcript for video ID {video_id}:\")\n",
    "        transcript = \" \".join([segment['text'] for segment in transcript_data])\n",
    "\n",
    "        return transcript\n",
    "\n",
    "    except Exception as e:\n",
    "        print(f\"Error fetching transcript: {e}\")\n",
    "        return None\n",
    "\n",
    "if __name__ == \"__main__\":\n",
    "    # YouTube video URL to test the transcript API\n",
    "    youtube_url = \"https://www.youtube.com/watch?v=WL5NqoNfMfQ\"\n",
    "\n",
    "    # Fetch and print transcript\n",
    "    data = fetch_youtube_transcript(youtube_url)\n",
    "\n",
    "    print(type(data))\n",
    "    print(data)\n",
    "\n",
    "\n"
   ]
  },
  {
   "cell_type": "code",
   "execution_count": 34,
   "metadata": {},
   "outputs": [
    {
     "name": "stdout",
     "output_type": "stream",
     "text": [
      "{'text': 'hello all my name is crush naak and', 'start': 0.599, 'duration': 3.841}\n"
     ]
    }
   ],
   "source": [
    "from youtube_transcript_api import YouTubeTranscriptApi\n",
    "# from urllib.parse import urlparse, parse_qs\n",
    "# retrieve the available transcripts\n",
    "# https://www.youtube.com/watch?v=HFfXvfFe9F8\n",
    "transcript_list = YouTubeTranscriptApi.list_transcripts('HFfXvfFe9F8')\n",
    "\n",
    "# iterate over all available transcripts\n",
    "for transcript in transcript_list:\n",
    "\n",
    "    # the Transcript object provides metadata properties\n",
    "    # print(\n",
    "    #     transcript.video_id,\n",
    "    #     transcript.language,\n",
    "    #     transcript.language_code,\n",
    "    #     # whether it has been manually created or generated by YouTube\n",
    "    #     transcript.is_generated,\n",
    "    #     # whether this transcript can be translated or not\n",
    "    #     transcript.is_translatable,\n",
    "    #     # a list of languages the transcript can be translated to\n",
    "    #     transcript.translation_languages,\n",
    "    # )\n",
    "\n",
    "\n",
    "    # translating the transcript will return another transcript object\n",
    "    req = transcript.translate('en').fetch()\n",
    "    # print(req)\n",
    "\n",
    "# you can also directly filter for the language you are looking for, using the transcript list\n",
    "# transcript = transcript_list.find_transcript(['en'])  \n",
    "\n",
    "# or just filter for manually created transcripts  \n",
    "# transcript = transcript_list.find_manually_created_transcript(['en'])  \n",
    "\n",
    "# or automatically generated ones  \n",
    "transcript = transcript_list.find_generated_transcript(['en'])\n",
    "print(transcript.fetch()[0])"
   ]
  },
  {
   "cell_type": "code",
   "execution_count": null,
   "metadata": {},
   "outputs": [
    {
     "name": "stdout",
     "output_type": "stream",
     "text": [
      "Transcript for video ID WL5NqoNfMfQ:\n",
      "<class 'str'>\n",
      "now whilst in this beautiful country and being in the middle of Havana how could I not give you a Cuban inspired Cubano sandwich this thing is off the chart but more importantly I've learned so much this week from the Cuban people the resourcefulness but more importantly just the sparsity of ingredients but when you get your hands on them it's second to none and that noise in the background is normal look those beautiful 1950s oldfashioned cars is what makes up this beautiful country's DNA right Cubano I've had many of these as I'm sure you have so I'm going to sort of change this thing up a little bit with a local honey from the caraban bee that has no sting but a lot of flavor the honey it tastes like mango and inside that I've got a little bit of tobacco and a little bit of chili in there first let's start roasting my peppers and onions There's No Frills here the most exciting thing about cooking this way down here is just let the flavors do the torqueing really important peppers I like to start off just going all the way around and that way we just cut around the seeds don't overt trim these things just keep them centimeter thick the secret here is in the amazing flavor off that Grill now if you look behind me I've got that what they call the lechon this is a beautiful slow roasted pig it's been on there for literally 12 hours and it's cooked hammock style wrapped in banana leaves and I promise you the flavor is incredible so open up the onions and then get the peppers in there and look rub that in a little bit of olive oil salt pepper and I've got little tiny bits of garlic here all you do is just take the garlic and just squash and lightly crush the garlic I'm going to slice it roast it whole it's so beautiful really beautiful on and then in and this is a sour orange okay again unique locally here I want to squeeze all that beautiful sour tartness of that juice over those peppers and what this does now is start to sort of marinade the peppers and the onions give that a really good mix to get that really nice and crispy and get some of that tobacco flavored honey with that Chile and the Beautiful little Peppers again slice round and let the flavors do the toring so in mix I love making sandwiches like this again look it's not even cooked yet we can see the kind of flavors we're going to get from there into the pan a absolute piping hot pan I want it color beautifully caramelized now I'm going to slice my pork over to the pig so this pig has been roasted for literally 14 15 hours and it's been cooked hammock style so it's so tender and then it's been wrapped in the banana leaves and just literally swung so throughout the cooking process you get the Rope that's why it's called a hammock and you just sit here in front of the water and you just pull up and let go pull up and let go and come on that has to be the most glamorous Pig anywhere in a hammock look at it it's beautiful so it goes across slowly roasts and just swings all day long now little touch of olive oil beautiful and now I want to get some crispiness on the bread again hot olive oil get that bread I want to make a nice beautiful big sandwich so this thing is like a meal for two get this right and honestly it's like no other now season the inside of the bread really important by the way it's always season on the crust but put some salt and pepper onto the bread and get that usely fry look at that oh boy and then from there start shredding that beautiful Leon I got some nice slices from the shoulder and then that's mixed with all that beautiful pork fat and look open that up I want to get it nice and crispy okay so by pulling it like this Crispen that up again touch more salt a touch of pepper and just a little drizzle for that spicy honey and with a tobacco flavor and that Chile in there it just lifts this pork like no other now have a look at this look get this pork really nice and crispy the nice thing about this is you don't need the expensive cuts this is a sort of the cheap Cuts I've got a little bit of the shoulder here a little bit of the butt a little bit of the neck and look get that really nice and crispy bread toasting up nicely you can see that is the start of the beautiful Cubano those Peppers at Pork is getting all nice and crispy look at the bread again nice and crisp and this is where the kubana goes up a notch going to get some really nice mustard okay and I'm going to spread the mustard on top of my toasted you hear how crispy that is baguette now I'm going to do this both sides why because this is a beautiful honey mustard and it's so delicious but I don't like that raw sort of flavor from that mustard so I go back into the pan now and caramelize that mustard and just literally get that on there and it just creates this amazing layer look at those peppers useful really nice and crisp they're ready to go they come off and then a little lime and zest over those Peppers lime zest so I'm going to make this a really nice fragrant Cubano lime squeezed over and honestly just that freshness at the end it is just incredible M that lime and the zest is just useful right now look at my uh my pork oh my Lord crispy delicious and check this out that beautiful camelized mustard and that puts another layer on there okay we got my base look at that that is so good oh my Lord that is so good first off some lettuce I just want a touch of texture under here in down and on and use the center you're only doing this once so make it very special so I love using these little hearts of this little CA lettuce then from there I'm going to start the buildup that crispy pork okay get that on there oh my goodness it's so good beautiful lots of pork okay that's the essence here and this is where it starts going up a level get your onions Peppers garlic and sit that on top try and lay the peppers out so they sort of go red green red green and look at the colors there so beautiful you see those tiny little Speckles of garlic the garlic is so sweet at that age and I've got the peppers the honey laced with that tobacco just drizzle that over and just let that seep in now a secret ingredient this is a local pollen it's a bee pollen and it's from these incredible carabine bees I'm just going to sprinkle the pollen inside and it's going to give this sort of acidic lift to this cabano it is so good honestly finally bring the heat down I got some lovely pickle cucumber here lightly drain them and then just sit that intertwine it a little bit sort of lift up the onions and the garlic and just hide that beautiful pickling look at that I mean we haven't even finished this sandwich yet and look how good it looks right the Final Cut of arms is the Galer Galer is a staple in a Cubano so take your slices of Gala or GDA depending where you are sit that on top of your bread give it a touch of seasoning press that in and just go back into the pan literally for 30 seconds I call this the cheese skirt and it is just incredible because look this Galer goua melts and we have this beautiful cheesy delicious incredible finished to the sandwich and look that is ready that's my glue that literally sticks this beautiful Cubano together push that down as that gouder firms up it sticks the whole sandwich together and then watch in and look at that seriously I promise you that has to be one of the most delicious cubanas anywhere in the country and that certifies I am not an idiot sandwich wanto catch all new episodes of Gordon Ram's Uncharted now streaming on Disney plus and Hulu\n"
     ]
    }
   ],
   "source": []
  },
  {
   "cell_type": "code",
   "execution_count": null,
   "metadata": {},
   "outputs": [],
   "source": []
  }
 ],
 "metadata": {
  "kernelspec": {
   "display_name": "DishDecodeCGAS",
   "language": "python",
   "name": "python3"
  },
  "language_info": {
   "codemirror_mode": {
    "name": "ipython",
    "version": 3
   },
   "file_extension": ".py",
   "mimetype": "text/x-python",
   "name": "python",
   "nbconvert_exporter": "python",
   "pygments_lexer": "ipython3",
   "version": "3.12.4"
  }
 },
 "nbformat": 4,
 "nbformat_minor": 2
}
