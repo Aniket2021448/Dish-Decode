{
 "cells": [
  {
   "cell_type": "code",
   "execution_count": 1,
   "metadata": {},
   "outputs": [
    {
     "name": "stderr",
     "output_type": "stream",
     "text": [
      "d:\\COURSES\\CGAS\\Dish-Decode\\DishDecodeCGAS\\Lib\\site-packages\\whisper\\__init__.py:150: FutureWarning: You are using `torch.load` with `weights_only=False` (the current default value), which uses the default pickle module implicitly. It is possible to construct malicious pickle data which will execute arbitrary code during unpickling (See https://github.com/pytorch/pytorch/blob/main/SECURITY.md#untrusted-models for more details). In a future release, the default value for `weights_only` will be flipped to `True`. This limits the functions that could be executed during unpickling. Arbitrary objects will no longer be allowed to be loaded via this mode unless they are explicitly allowlisted by the user via `torch.serialization.add_safe_globals`. We recommend you start setting `weights_only=True` for any use case where you don't have full control of the loaded file. Please open an issue on GitHub for any issues related to this experimental feature.\n",
      "  checkpoint = torch.load(fp, map_location=device)\n"
     ]
    }
   ],
   "source": [
    "import whisper\n",
    "\n",
    "model = whisper.load_model(\"base\")  # Choose a model size: tiny, base, small, medium, large\n"
   ]
  },
  {
   "cell_type": "code",
   "execution_count": 2,
   "metadata": {},
   "outputs": [
    {
     "name": "stdout",
     "output_type": "stream",
     "text": [
      "d:\\COURSES\\CGAS\\Dish-Decode\n"
     ]
    }
   ],
   "source": [
    "import os\n",
    "print(os.getcwd())\n"
   ]
  },
  {
   "cell_type": "code",
   "execution_count": 3,
   "metadata": {},
   "outputs": [
    {
     "name": "stdout",
     "output_type": "stream",
     "text": [
      "File exists\n"
     ]
    }
   ],
   "source": [
    "import os\n",
    "if os.path.exists(\"Ruchi_sanjeev_weddingCard_digital_final.mp4\"):\n",
    "    print(\"File exists\")\n",
    "else:\n",
    "    print(\"File not found\")\n"
   ]
  },
  {
   "cell_type": "code",
   "execution_count": 12,
   "metadata": {},
   "outputs": [
    {
     "name": "stdout",
     "output_type": "stream",
     "text": [
      "File D:\\COURSES\\CGAS\\Dish-Decode\\CHRISTMAS RECIPE_Christmas Beef Wellington.mp4 opened successfully\n"
     ]
    }
   ],
   "source": [
    "with open(r\"D:\\COURSES\\CGAS\\Dish-Decode\\CHRISTMAS RECIPE_Christmas Beef Wellington.mp4\", \"rb\") as f:\n",
    "    print(f\"File {f.name} opened successfully\")\n"
   ]
  },
  {
   "cell_type": "code",
   "execution_count": 5,
   "metadata": {},
   "outputs": [
    {
     "name": "stdout",
     "output_type": "stream",
     "text": [
      "ffmpeg is installed and accessible.\n"
     ]
    }
   ],
   "source": [
    "import subprocess\n",
    "try:\n",
    "    subprocess.run([\"ffmpeg\", \"-version\"], check=True)\n",
    "    print(\"ffmpeg is installed and accessible.\")\n",
    "except FileNotFoundError:\n",
    "    print(\"ffmpeg is not installed or not in PATH.\")\n"
   ]
  },
  {
   "cell_type": "code",
   "execution_count": 13,
   "metadata": {},
   "outputs": [
    {
     "name": "stderr",
     "output_type": "stream",
     "text": [
      "d:\\COURSES\\CGAS\\Dish-Decode\\DishDecodeCGAS\\Lib\\site-packages\\whisper\\transcribe.py:132: UserWarning: FP16 is not supported on CPU; using FP32 instead\n",
      "  warnings.warn(\"FP16 is not supported on CPU; using FP32 instead\")\n"
     ]
    }
   ],
   "source": [
    "result = model.transcribe(\"D:/COURSES/CGAS/Dish-Decode/CHRISTMAS RECIPE_Christmas Beef Wellington.mp4\")"
   ]
  },
  {
   "cell_type": "code",
   "execution_count": null,
   "metadata": {},
   "outputs": [
    {
     "name": "stdout",
     "output_type": "stream",
     "text": [
      " Beef Wellington has to be the ultimate indulgence. One of my all-time favourite main courses and it would definitely be on my last supper menu. My version is a lot lighter and sexier, and for Christmas I'm going to give it an added twist. First off, the fillet of beef. Now, look at it, it's beautiful. First, the most important part is to sear it. Salt pepper. The fillet is the leanest and the most expensive cut of beef. It comes from underneath the lower backbone, a part of the animal which has very little muscle, and this is what makes it such a tender cut. Very, very hot pan, olive oil, and literally roll it around the pan. We're not cooking the beef, we're just searing it, which will really help to give another layer of flavour and beef in. Lovely. Now, use the side of the pan so the beef sears down the back when you tilt it. It's a secret to get it done quickly. It gives that really nice roasted flavour. Delicious. Once you've got the colour, very carefully, lift up the beef and sear it on top, and sear it on the bottom out and onto the plate. English mustard. What this does now, it gives it a bit of sort of bit of heat, just lightly brush the mustard over the beef. So, really important that you do this as the beef comes straight out of the pan, and as the beef starts to cool down, it absorbs all that heat from the mustard. Horse radish is a really nice alternative as well. Just leave that to sit and relax. As the fillet rests, prepare the filling, which is called a duck cell. Put 700 grams of chestnut mushrooms into a blender, add a chopped clove of garlic, season with salt and pepper, and blitz. Christmas wouldn't be Christmas without chestnuts. I just crumble them in to the mushrooms. The chestnut's sweet nutty flavour works brilliantly with the earthy taste of the mushrooms, and because they contain more starch, and less oil than other nuts, they have a much softer texture that is perfect for the filling. That smells amazing. It smells like Christmas. Once the mixture is finely chopped, cook in a hot dry pan. This removes the water from the mushrooms and intensifies the flavour. You can see the water coming out. Instantly, such an essential stage, really critical to the success of the Wellington that you dry those mushrooms out and get rid of all that water. Take the mushrooms up even further, some fresh thyme in there, which will make it really nice and light and fragrant. When all the water has been fried off, remove from the pan and leak to cool. Then start assembling the Wellington. Stage 1, wrapping the beef fillet. First of all, these wonderful slices of parma ham and look beautiful. Overlapped it and set it there. So the secret of overlapping the parma ham is to make sure it contains all those juices coming out of the beef. In the traditional recipe for beef Wellington, a thick, chive and spring onion pancake is used instead of ham. But the parma ham makes the dish much lighter and its sweet, salty flavour really compliments the mushroom and chestnut filling. A little touch of pepper, no salt because the ham is naturally salty. It's a little twist of pepper. And then from there your mushrooms. And basically, mushrooms go on. Use the back of the spoon to spread them nice and thinly. Half an inch from the ends. Rump holes, no. Hop it. Every time there's meat, out he comes. Next, lay the beef on top. Very carefully, fold that over. Now, we're going to lift that up and wrap the beef. Nice and carefully. So all that mushroom and parma ham is encasing the beef all the way over. Push it nice and tight. Roll it nice and tight. I think it all the way over. Now, the secret from here is to really let the cling film do the work. Just nip it at the ends and squeeze. And what we're doing is just creating this wonderful sort of cylinder shape off and then just twist it nice and tightly. And the tighter it is, the more perfect the shape. Then place in the fridge for 15 minutes to firm up. Once it's set, it's ready for the final wrap. Look what it's in for. Puff pastry. Beef. Now, very carefully. First roll the puff pastry over the beef into the two edges meat. Then trim off any excess pastry. And twist the ends together to ensure the beef is completely sealed in its pastry case. To set that perfectly, I get it really nice and firm to make it really cylinder type, cling film over. And just pull that nice and tight. But the big secret behind this is that it can be done the night before. And the tight of the cling film, the better the shape. The more even the shape, the more even it cooks. Put it back in the fridge for five minutes to firm up again. Then take off the cling film. Always like the perfect Christmas cracker. To give the pastry a lovely rich golden brown colour when it bakes, brush it with egg yolk. And then finally, you don't have to do this, but it's a shappy thing. A little bit of decoration. Back of the knife down. And then just twist and mark the pastry. When it comes out of the oven, it's got their wow factor. Add a generous sprinkle of salt to ensure the pastry becomes lovely and crisp. Then bake in an oven at 200 degrees for around 35 minutes, depending on how rare you like your beef. Once out of the oven, it's crucial you let the Wellington rest for at least 10 minutes. This allows the meat to relax and reabsorbed its delicious juices, making sure it's tender and succulent. Nice and gently. Hear that pastry, how crisp that is. This is the bit that we've been waiting for. Oh wow. My god. I'm in heaven. And for me, if you want a really nice change to roast turkey, this has to be the ultimate for the table. It smells Christmassy. The chestnuts, the mushrooms, and that nice crisp pastry on the outside. Look at it. I'm ready to die and go to heaven.\n"
     ]
    }
   ],
   "source": [
    "\n",
    "print(result['text'])\n"
   ]
  },
  {
   "cell_type": "code",
   "execution_count": 15,
   "metadata": {},
   "outputs": [],
   "source": [
    "\n",
    "with open(\"recipe_info_text.txt\", \"w\") as file:\n",
    "    file.write(result['text'])\n"
   ]
  },
  {
   "cell_type": "code",
   "execution_count": null,
   "metadata": {},
   "outputs": [],
   "source": []
  },
  {
   "cell_type": "code",
   "execution_count": null,
   "metadata": {},
   "outputs": [],
   "source": []
  }
 ],
 "metadata": {
  "kernelspec": {
   "display_name": "DishDecodeCGAS",
   "language": "python",
   "name": "python3"
  },
  "language_info": {
   "codemirror_mode": {
    "name": "ipython",
    "version": 3
   },
   "file_extension": ".py",
   "mimetype": "text/x-python",
   "name": "python",
   "nbconvert_exporter": "python",
   "pygments_lexer": "ipython3",
   "version": "3.12.4"
  }
 },
 "nbformat": 4,
 "nbformat_minor": 2
}
