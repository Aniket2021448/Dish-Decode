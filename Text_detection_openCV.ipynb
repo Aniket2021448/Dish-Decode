{
 "cells": [
  {
   "cell_type": "code",
   "execution_count": 3,
   "metadata": {},
   "outputs": [
    {
     "name": "stdout",
     "output_type": "stream",
     "text": [
      "Requirement already satisfied: opencv-python in d:\\courses\\cgas\\dish-decode\\dishdecodecgas\\lib\\site-packages (4.10.0.84)\n",
      "Requirement already satisfied: numpy>=1.21.2 in d:\\courses\\cgas\\dish-decode\\dishdecodecgas\\lib\\site-packages (from opencv-python) (2.0.2)\n"
     ]
    },
    {
     "name": "stderr",
     "output_type": "stream",
     "text": [
      "\n",
      "[notice] A new release of pip is available: 24.0 -> 24.3.1\n",
      "[notice] To update, run: python.exe -m pip install --upgrade pip\n"
     ]
    },
    {
     "name": "stdout",
     "output_type": "stream",
     "text": [
      "Requirement already satisfied: pytesseract in d:\\courses\\cgas\\dish-decode\\dishdecodecgas\\lib\\site-packages (0.3.13)\n",
      "Requirement already satisfied: packaging>=21.3 in d:\\courses\\cgas\\dish-decode\\dishdecodecgas\\lib\\site-packages (from pytesseract) (24.2)\n",
      "Requirement already satisfied: Pillow>=8.0.0 in d:\\courses\\cgas\\dish-decode\\dishdecodecgas\\lib\\site-packages (from pytesseract) (10.4.0)\n"
     ]
    },
    {
     "name": "stderr",
     "output_type": "stream",
     "text": [
      "\n",
      "[notice] A new release of pip is available: 24.0 -> 24.3.1\n",
      "[notice] To update, run: python.exe -m pip install --upgrade pip\n"
     ]
    }
   ],
   "source": [
    "!pip install opencv-python\n",
    "!pip install pytesseract"
   ]
  },
  {
   "cell_type": "code",
   "execution_count": null,
   "metadata": {},
   "outputs": [],
   "source": [
    "import cv2\n",
    "import pytesseract\n",
    "from pytesseract import Output\n",
    "import os\n"
   ]
  },
  {
   "cell_type": "code",
   "execution_count": null,
   "metadata": {},
   "outputs": [],
   "source": [
    "\n",
    "# Ensure Tesseract OCR is properly configured\n",
    "pytesseract.pytesseract.tesseract_cmd = r'C:\\Program Files\\Tesseract-OCRtesseract.exe'\n",
    "\n",
    "def extract_text_from_video(video_path, output_folder, interval=1):\n",
    "\n",
    "    # Create output folder if it doesn't exist\n",
    "    os.makedirs(output_folder, exist_ok=True)\n",
    "    \n",
    "    # Open the video file\n",
    "    cap = cv2.VideoCapture(video_path)\n",
    "    fps = int(cap.get(cv2.CAP_PROP_FPS))\n",
    "    frame_interval = interval * fps  # Number of frames to skip\n",
    "    \n",
    "    frame_count = 0\n",
    "    results = []\n",
    "\n",
    "    while cap.isOpened():\n",
    "        ret, frame = cap.read()\n",
    "        if not ret:\n",
    "            break\n",
    "\n",
    "        # Process frame at the specified interval\n",
    "        if frame_count % frame_interval == 0:\n",
    "            timestamp = frame_count / fps  # Current time in seconds\n",
    "            frame_filename = os.path.join(output_folder, f\"frame_{frame_count}.jpg\")\n",
    "            \n",
    "            # Save the frame for reference (optional)\n",
    "            cv2.imwrite(frame_filename, frame)\n",
    "\n",
    "            # Convert frame to grayscale for better OCR performance\n",
    "            gray = cv2.cvtColor(frame, cv2.COLOR_BGR2GRAY)\n",
    "\n",
    "            # Optional: Apply preprocessing (e.g., thresholding)\n",
    "            # gray = cv2.threshold(gray, 0, 255, cv2.THRESH_BINARY | cv2.THRESH_OTSU)[1]\n",
    "\n",
    "            # Perform OCR\n",
    "            text = pytesseract.image_to_string(gray, lang='eng', config='--psm 6')\n",
    "            if text.strip():  # Only consider non-empty text blocks\n",
    "                results.append({'timestamp': timestamp, 'text': text.strip()})\n",
    "                print(f\"Extracted text at {timestamp:.2f}s: {text.strip()}\")\n",
    "\n",
    "        frame_count += 1\n",
    "\n",
    "    cap.release()\n",
    "    return results\n",
    "\n",
    "# Path to the video file\n",
    "video_path = \"Video_text_recipe_opencv.mp4\"\n",
    "\n",
    "# Output folder for frames\n",
    "output_folder = \"extracted_frames\"\n",
    "\n",
    "# Extract text\n",
    "text_blocks = extract_text_from_video(video_path, output_folder, interval=0.5)\n",
    "\n",
    "# Save extracted text to a file\n",
    "with open(\"extracted_text_blocks.txt\", \"w\", encoding=\"utf-8\") as f:\n",
    "    for block in text_blocks:\n",
    "        f.write(f\"Time: {block['timestamp']:.2f}s\\nText: {block['text']}\\n\\n\")\n"
   ]
  }
 ],
 "metadata": {
  "kernelspec": {
   "display_name": "DishDecodeCGAS",
   "language": "python",
   "name": "python3"
  },
  "language_info": {
   "codemirror_mode": {
    "name": "ipython",
    "version": 3
   },
   "file_extension": ".py",
   "mimetype": "text/x-python",
   "name": "python",
   "nbconvert_exporter": "python",
   "pygments_lexer": "ipython3",
   "version": "3.12.4"
  }
 },
 "nbformat": 4,
 "nbformat_minor": 2
}
